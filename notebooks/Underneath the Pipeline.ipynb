{
 "cells": [
  {
   "cell_type": "markdown",
   "metadata": {},
   "source": [
    "# Underneath the Pipeline\n",
    "\n",
    "This tutorial executes a given pipeline while also viewing the intermediate results. It can be applied to any pipeline available in the Orion repository. In this edition, we will be viewing the `tadgan` pipeline.\n",
    "\n",
    "First let's load a demo dataset"
   ]
  },
  {
   "cell_type": "code",
   "execution_count": 1,
   "metadata": {},
   "outputs": [
    {
     "data": {
      "text/html": [
       "<div>\n",
       "<style scoped>\n",
       "    .dataframe tbody tr th:only-of-type {\n",
       "        vertical-align: middle;\n",
       "    }\n",
       "\n",
       "    .dataframe tbody tr th {\n",
       "        vertical-align: top;\n",
       "    }\n",
       "\n",
       "    .dataframe thead th {\n",
       "        text-align: right;\n",
       "    }\n",
       "</style>\n",
       "<table border=\"1\" class=\"dataframe\">\n",
       "  <thead>\n",
       "    <tr style=\"text-align: right;\">\n",
       "      <th></th>\n",
       "      <th>timestamp</th>\n",
       "      <th>value</th>\n",
       "    </tr>\n",
       "  </thead>\n",
       "  <tbody>\n",
       "    <tr>\n",
       "      <th>0</th>\n",
       "      <td>1222819200</td>\n",
       "      <td>-0.366359</td>\n",
       "    </tr>\n",
       "    <tr>\n",
       "      <th>1</th>\n",
       "      <td>1222840800</td>\n",
       "      <td>-0.394108</td>\n",
       "    </tr>\n",
       "    <tr>\n",
       "      <th>2</th>\n",
       "      <td>1222862400</td>\n",
       "      <td>0.403625</td>\n",
       "    </tr>\n",
       "    <tr>\n",
       "      <th>3</th>\n",
       "      <td>1222884000</td>\n",
       "      <td>-0.362759</td>\n",
       "    </tr>\n",
       "    <tr>\n",
       "      <th>4</th>\n",
       "      <td>1222905600</td>\n",
       "      <td>-0.370746</td>\n",
       "    </tr>\n",
       "  </tbody>\n",
       "</table>\n",
       "</div>"
      ],
      "text/plain": [
       "    timestamp     value\n",
       "0  1222819200 -0.366359\n",
       "1  1222840800 -0.394108\n",
       "2  1222862400  0.403625\n",
       "3  1222884000 -0.362759\n",
       "4  1222905600 -0.370746"
      ]
     },
     "execution_count": 1,
     "metadata": {},
     "output_type": "execute_result"
    }
   ],
   "source": [
    "from orion.data import load_signal\n",
    "\n",
    "signal = load_signal('S-1')\n",
    "signal_without_anom = load_signal('S-1-train')\n",
    "signal_with_anom = load_signal('S-1-test')\n",
    "signal.head()"
   ]
  },
  {
   "cell_type": "markdown",
   "metadata": {},
   "source": [
    "Load the desired pipeline and setup hyperparameters as necessary"
   ]
  },
  {
   "cell_type": "code",
   "execution_count": 2,
   "metadata": {},
   "outputs": [
    {
     "name": "stderr",
     "output_type": "stream",
     "text": [
      "Using TensorFlow backend.\n"
     ]
    },
    {
     "name": "stdout",
     "output_type": "stream",
     "text": [
      "WARNING:tensorflow:From /Users/sarah/opt/anaconda3/envs/orion/lib/python3.6/site-packages/tensorflow_core/python/ops/resource_variable_ops.py:1630: calling BaseResourceVariable.__init__ (from tensorflow.python.ops.resource_variable_ops) with constraint is deprecated and will be removed in a future version.\n",
      "Instructions for updating:\n",
      "If using Keras pass *_constraint arguments to layers.\n"
     ]
    }
   ],
   "source": [
    "from mlblocks import MLPipeline\n",
    "\n",
    "hyper = {\n",
    "    \"sklearn.preprocessing.MinMaxScaler#1\": {\n",
    "        \"feature_range\": [-1, 1]\n",
    "    },\n",
    "    \"orion.primitives.tadgan.TadGAN#1\": { \n",
    "        \"epochs\": 10, \n",
    "        \"verbose\": True,\n",
    "        \"validation_split\": 0.0\n",
    "    } \n",
    "}  \n",
    "\n",
    "pipeline = MLPipeline('tadgan')\n",
    "pipeline.set_hyperparameters(hyper)"
   ]
  },
  {
   "cell_type": "markdown",
   "metadata": {},
   "source": [
    "# Step by Step Executation\n",
    "\n",
    "Now we view the intermediate results by looking at the context at each step. First we go through the training process, then we continue to the detection sequences.\n",
    "\n",
    "## Training\n",
    "\n",
    "### step 0: time_segments_aggregate\n",
    "\n",
    "equally space the timeseries"
   ]
  },
  {
   "cell_type": "code",
   "execution_count": 3,
   "metadata": {},
   "outputs": [],
   "source": [
    "step = 0\n",
    "context = pipeline.fit(signal, output_=step)"
   ]
  },
  {
   "cell_type": "code",
   "execution_count": 4,
   "metadata": {},
   "outputs": [
    {
     "data": {
      "text/plain": [
       "dict_keys(['X', 'index'])"
      ]
     },
     "execution_count": 4,
     "metadata": {},
     "output_type": "execute_result"
    }
   ],
   "source": [
    "context.keys()"
   ]
  },
  {
   "cell_type": "markdown",
   "metadata": {},
   "source": [
    "### step 1: SimpleImputer\n",
    "\n",
    "impute missing values"
   ]
  },
  {
   "cell_type": "code",
   "execution_count": 5,
   "metadata": {},
   "outputs": [],
   "source": [
    "step = 1\n",
    "context = pipeline.fit(**context, output_=step, start_=step)"
   ]
  },
  {
   "cell_type": "code",
   "execution_count": 6,
   "metadata": {},
   "outputs": [
    {
     "data": {
      "text/plain": [
       "dict_keys(['index', 'X'])"
      ]
     },
     "execution_count": 6,
     "metadata": {},
     "output_type": "execute_result"
    }
   ],
   "source": [
    "context.keys()"
   ]
  },
  {
   "cell_type": "markdown",
   "metadata": {},
   "source": [
    "### step 2: MinMaxScaler\n",
    "\n",
    "scale the data between -1 and 1"
   ]
  },
  {
   "cell_type": "code",
   "execution_count": 7,
   "metadata": {},
   "outputs": [],
   "source": [
    "step = 2\n",
    "context = pipeline.fit(**context, output_=step, start_=step)"
   ]
  },
  {
   "cell_type": "code",
   "execution_count": 8,
   "metadata": {},
   "outputs": [
    {
     "data": {
      "text/plain": [
       "dict_keys(['index', 'X'])"
      ]
     },
     "execution_count": 8,
     "metadata": {},
     "output_type": "execute_result"
    }
   ],
   "source": [
    "context.keys()"
   ]
  },
  {
   "cell_type": "markdown",
   "metadata": {},
   "source": [
    "### step 3: rolling_window_sequences\n",
    "\n",
    "generate training examples from rolling window sequences"
   ]
  },
  {
   "cell_type": "code",
   "execution_count": 9,
   "metadata": {},
   "outputs": [],
   "source": [
    "step = 3\n",
    "context = pipeline.fit(**context, output_=step, start_=step)"
   ]
  },
  {
   "cell_type": "code",
   "execution_count": 10,
   "metadata": {},
   "outputs": [
    {
     "data": {
      "text/plain": [
       "dict_keys(['index', 'X', 'y', 'X_index', 'target_index'])"
      ]
     },
     "execution_count": 10,
     "metadata": {},
     "output_type": "execute_result"
    }
   ],
   "source": [
    "context.keys()"
   ]
  },
  {
   "cell_type": "markdown",
   "metadata": {},
   "source": [
    "### step 4: TadGAN\n",
    "\n",
    "train the TadGAN model using the generated window sequences"
   ]
  },
  {
   "cell_type": "code",
   "execution_count": 11,
   "metadata": {},
   "outputs": [
    {
     "name": "stdout",
     "output_type": "stream",
     "text": [
      "WARNING:tensorflow:From /Users/sarah/opt/anaconda3/envs/orion/lib/python3.6/site-packages/tensorflow_core/python/ops/math_grad.py:1424: where (from tensorflow.python.ops.array_ops) is deprecated and will be removed in a future version.\n",
      "Instructions for updating:\n",
      "Use tf.where in 2.0, which has the same broadcast rule as np.where\n"
     ]
    },
    {
     "name": "stderr",
     "output_type": "stream",
     "text": [
      "/Users/sarah/opt/anaconda3/envs/orion/lib/python3.6/site-packages/keras/engine/training.py:297: UserWarning: Discrepancy between trainable weights and collected trainable weights, did you set `model.trainable` without calling `model.compile` after ?\n",
      "  'Discrepancy between trainable weights and collected trainable'\n"
     ]
    },
    {
     "name": "stdout",
     "output_type": "stream",
     "text": [
      "WARNING:tensorflow:From /Users/sarah/opt/anaconda3/envs/orion/lib/python3.6/site-packages/keras/backend/tensorflow_backend.py:422: The name tf.global_variables is deprecated. Please use tf.compat.v1.global_variables instead.\n",
      "\n"
     ]
    },
    {
     "name": "stderr",
     "output_type": "stream",
     "text": [
      "/Users/sarah/opt/anaconda3/envs/orion/lib/python3.6/site-packages/keras/engine/training.py:297: UserWarning: Discrepancy between trainable weights and collected trainable weights, did you set `model.trainable` without calling `model.compile` after ?\n",
      "  'Discrepancy between trainable weights and collected trainable'\n",
      "/Users/sarah/opt/anaconda3/envs/orion/lib/python3.6/site-packages/keras/engine/training.py:297: UserWarning: Discrepancy between trainable weights and collected trainable weights, did you set `model.trainable` without calling `model.compile` after ?\n",
      "  'Discrepancy between trainable weights and collected trainable'\n",
      "/Users/sarah/opt/anaconda3/envs/orion/lib/python3.6/site-packages/keras/engine/training.py:297: UserWarning: Discrepancy between trainable weights and collected trainable weights, did you set `model.trainable` without calling `model.compile` after ?\n",
      "  'Discrepancy between trainable weights and collected trainable'\n"
     ]
    },
    {
     "name": "stdout",
     "output_type": "stream",
     "text": [
      "Epoch: 1/10, [Dx loss: [-2.5895422  -5.0118747   1.4272469   0.09950858]] [Dz loss: [-1.3856504  -1.9563327  -0.59258443  0.1163267 ]] [G loss: [ 2.073715  -1.416676   1.2220567  0.2268334]]\n",
      "Epoch: 2/10, [Dx loss: [-3.5973234  -5.644382    1.5419292   0.05051273]] [Dz loss: [-3.3126898 -3.2940419 -1.0770003  0.1058353]] [G loss: [ 1.9867396  -1.5085914   1.3484728   0.21468587]]\n",
      "Epoch: 3/10, [Dx loss: [-3.3529928  -5.474612    1.6860714   0.04355478]] [Dz loss: [-1.9597102  -3.3116145   0.5746686   0.07772351]] [G loss: [ 0.3153107  -1.6702453  -0.19440857  0.21799648]]\n",
      "Epoch: 4/10, [Dx loss: [-3.1988657  -5.2914453   1.662976    0.04296039]] [Dz loss: [-1.3683594  -1.1619302  -0.58091825  0.037449  ]] [G loss: [ 1.7359052  -1.6577837   1.1244019   0.22692868]]\n",
      "Epoch: 5/10, [Dx loss: [-3.2020109  -5.1778736   1.5245775   0.04512852]] [Dz loss: [-1.3386182  -0.47125152 -1.3341565   0.04667902]] [G loss: [ 3.000364   -1.5218116   2.2113416   0.23108336]]\n",
      "Epoch: 6/10, [Dx loss: [-3.1898909  -4.869678    1.2840918   0.03956958]] [Dz loss: [-0.7254316  3.2967615 -4.834381   0.081219 ]] [G loss: [ 6.6017704  -1.2702152   5.5881295   0.22838558]]\n",
      "Epoch: 7/10, [Dx loss: [-2.7234297 -4.432955   1.413059   0.0296467]] [Dz loss: [ 0.18847741  1.4136558  -1.6561681   0.04309904]] [G loss: [ 3.0928507  -1.4083445   2.1507516   0.23504433]]\n",
      "Epoch: 8/10, [Dx loss: [-2.3869855 -4.231468   1.5807879  0.0263693]] [Dz loss: [ 0.85145324  2.4933195  -2.3047209   0.06628539]] [G loss: [ 3.79577    -1.5551386   2.8862047   0.24647053]]\n",
      "Epoch: 9/10, [Dx loss: [-2.1074202  -2.7522895   0.42539427  0.02194743]] [Dz loss: [ 1.2295225   2.1813157  -1.429817    0.04780243]] [G loss: [ 3.480214   -0.3959309   1.5994929   0.22766517]]\n",
      "Epoch: 10/10, [Dx loss: [-2.006095   -2.6534784   0.4406368   0.02067465]] [Dz loss: [ 0.47689995  0.91658    -0.81482065  0.03751404]] [G loss: [ 2.9899356  -0.44213757  1.1870416   0.22450309]]\n"
     ]
    }
   ],
   "source": [
    "step = 4\n",
    "context = pipeline.fit(**context, output_=step, start_=step)"
   ]
  },
  {
   "cell_type": "code",
   "execution_count": 12,
   "metadata": {},
   "outputs": [
    {
     "data": {
      "text/plain": [
       "dict_keys(['index', 'X_index', 'target_index', 'X', 'y', 'y_hat', 'critic'])"
      ]
     },
     "execution_count": 12,
     "metadata": {},
     "output_type": "execute_result"
    }
   ],
   "source": [
    "context.keys()"
   ]
  },
  {
   "cell_type": "markdown",
   "metadata": {},
   "source": [
    "## Detecting\n",
    "\n",
    "We can either use another part of the signal or the same signal. If you are using the same signal, there is no reseaon to repeat step 0 - 3.\n",
    "\n",
    "### step 0 - 3: similar to the previous steps\n",
    "All previous time series processing applied in a single line"
   ]
  },
  {
   "cell_type": "code",
   "execution_count": 185,
   "metadata": {},
   "outputs": [],
   "source": [
    "import pandas as pd\n",
    "import numpy as np\n",
    "\n",
    "dummy =  pd.DataFrame({\"timestamp\": list(range(0, 21600*1000, 21600)), \n",
    "                       \"value\": list(np.random.randint(-100, -50, 500)) + list(np.random.randint(50, 100, 500))})"
   ]
  },
  {
   "cell_type": "code",
   "execution_count": 179,
   "metadata": {},
   "outputs": [],
   "source": [
    "step = 4\n",
    "result = []\n",
    "for dt in [dummy, signal_without_anom, signal_with_anom]:\n",
    "    context = pipeline.predict(dt, output_=step)\n",
    "\n",
    "    result.append(context)"
   ]
  },
  {
   "cell_type": "markdown",
   "metadata": {},
   "source": [
    "### step 4: TadGAN predictions and critic output\n",
    "get the predictions and critic values for the data"
   ]
  },
  {
   "cell_type": "code",
   "execution_count": 13,
   "metadata": {},
   "outputs": [],
   "source": [
    "import numpy as np\n",
    "\n",
    "def unroll_ts(y_hat):\n",
    "    predictions = list()\n",
    "    pred_length = y_hat.shape[1]\n",
    "    num_errors = y_hat.shape[1] + (y_hat.shape[0] - 1)\n",
    "\n",
    "    for i in range(num_errors):\n",
    "            intermediate = []\n",
    "\n",
    "            for j in range(max(0, i - num_errors + pred_length), min(i + 1, pred_length)):\n",
    "                intermediate.append(y_hat[i - j, j])\n",
    "\n",
    "            if intermediate:\n",
    "                predictions.append(np.median(np.asarray(intermediate)))\n",
    "\n",
    "    return np.asarray(predictions[pred_length-1:])"
   ]
  },
  {
   "cell_type": "code",
   "execution_count": 14,
   "metadata": {},
   "outputs": [
    {
     "ename": "NameError",
     "evalue": "name 'dummy' is not defined",
     "output_type": "error",
     "traceback": [
      "\u001b[0;31m---------------------------------------------------------------------------\u001b[0m",
      "\u001b[0;31mNameError\u001b[0m                                 Traceback (most recent call last)",
      "\u001b[0;32m<ipython-input-14-edfb192a229b>\u001b[0m in \u001b[0;36m<module>\u001b[0;34m\u001b[0m\n\u001b[1;32m      1\u001b[0m \u001b[0mstep\u001b[0m \u001b[0;34m=\u001b[0m \u001b[0;36m4\u001b[0m\u001b[0;34m\u001b[0m\u001b[0;34m\u001b[0m\u001b[0m\n\u001b[0;32m----> 2\u001b[0;31m \u001b[0mcontext\u001b[0m \u001b[0;34m=\u001b[0m \u001b[0mpipeline\u001b[0m\u001b[0;34m.\u001b[0m\u001b[0mpredict\u001b[0m\u001b[0;34m(\u001b[0m\u001b[0mdummy\u001b[0m\u001b[0;34m,\u001b[0m \u001b[0moutput_\u001b[0m\u001b[0;34m=\u001b[0m\u001b[0mstep\u001b[0m\u001b[0;34m)\u001b[0m\u001b[0;34m\u001b[0m\u001b[0;34m\u001b[0m\u001b[0m\n\u001b[0m",
      "\u001b[0;31mNameError\u001b[0m: name 'dummy' is not defined"
     ]
    }
   ],
   "source": [
    "step = 4\n",
    "context = pipeline.predict(dummy, output_=step)"
   ]
  },
  {
   "cell_type": "code",
   "execution_count": null,
   "metadata": {},
   "outputs": [],
   "source": [
    "context.keys()"
   ]
  },
  {
   "cell_type": "code",
   "execution_count": 191,
   "metadata": {},
   "outputs": [
    {
     "data": {
      "image/png": "[encoded data removed]",
      "text/plain": [
       "<Figure size 432x288 with 1 Axes>"
      ]
     },
     "metadata": {
      "needs_background": "light"
     },
     "output_type": "display_data"
    }
   ],
   "source": [
    "%matplotlib inline\n",
    "\n",
    "import matplotlib.pyplot as plt\n",
    "\n",
    "plt.hist(context['critic'].flatten(), bins=20, edgecolor='black')\n",
    "plt.title(\"critic score for dummy data\");"
   ]
  },
  {
   "cell_type": "code",
   "execution_count": 119,
   "metadata": {},
   "outputs": [
    {
     "data": {
      "image/png": "[encoded data removed]",
      "text/plain": [
       "<Figure size 432x288 with 1 Axes>"
      ]
     },
     "metadata": {
      "needs_background": "light"
     },
     "output_type": "display_data"
    }
   ],
   "source": [
    "%matplotlib inline\n",
    "\n",
    "import matplotlib.pyplot as plt\n",
    "\n",
    "plt.hist(context['critic'].flatten(), bins=20, edgecolor='black')\n",
    "plt.title(\"critic score for real data, no anomalies\");"
   ]
  },
  {
   "cell_type": "code",
   "execution_count": 124,
   "metadata": {},
   "outputs": [
    {
     "data": {
      "image/png": "[encoded data removed]",
      "text/plain": [
       "<Figure size 432x288 with 1 Axes>"
      ]
     },
     "metadata": {
      "needs_background": "light"
     },
     "output_type": "display_data"
    }
   ],
   "source": [
    "%matplotlib inline\n",
    "\n",
    "import matplotlib.pyplot as plt\n",
    "\n",
    "plt.hist(context['critic'].flatten(), bins=20, edgecolor='black')\n",
    "plt.title(\"critic score for real data, with anomalies\");"
   ]
  },
  {
   "cell_type": "code",
   "execution_count": 22,
   "metadata": {},
   "outputs": [
    {
     "data": {
      "image/png": "[encoded data removed]",
      "text/plain": [
       "<Figure size 432x288 with 1 Axes>"
      ]
     },
     "metadata": {
      "needs_background": "light"
     },
     "output_type": "display_data"
    }
   ],
   "source": [
    "%matplotlib inline\n",
    "\n",
    "import matplotlib.pyplot as plt\n",
    "\n",
    "plt.plot(signal['value'], label='actual')\n",
    "plt.plot(unroll_ts(context['y_hat']), label='generated')\n",
    "plt.legend()\n",
    "plt.title('S-1')\n",
    "plt.savefig(\"tf1_s1.png\", dpi=300);"
   ]
  },
  {
   "cell_type": "code",
   "execution_count": 23,
   "metadata": {},
   "outputs": [
    {
     "data": {
      "image/png": "[encoded data removed]",
      "text/plain": [
       "<Figure size 432x288 with 1 Axes>"
      ]
     },
     "metadata": {
      "needs_background": "light"
     },
     "output_type": "display_data"
    }
   ],
   "source": [
    "plt.title('S-1 critic score')\n",
    "plt.plot(context['critic'])\n",
    "plt.savefig(\"tf1_s1_critic.png\", dpi=300);"
   ]
  },
  {
   "cell_type": "code",
   "execution_count": 182,
   "metadata": {},
   "outputs": [
    {
     "data": {
      "image/png": "[encoded data removed]",
      "text/plain": [
       "<Figure size 1080x216 with 3 Axes>"
      ]
     },
     "metadata": {
      "needs_background": "light"
     },
     "output_type": "display_data"
    }
   ],
   "source": [
    "# 3 in 1 plot\n",
    "\n",
    "plt.figure(figsize=(15, 3))\n",
    "titles = [\"critic score for dummy data\",\n",
    "          \"critic score for real data, no anomalies\",\n",
    "          \"critic score for real data, with anomalies\"]\n",
    "\n",
    "for i, item in enumerate(result):\n",
    "    plt.subplot(1, 3, i+1)\n",
    "    plt.hist(item['critic'].flatten(), bins=20, edgecolor='black')\n",
    "    plt.title(titles[i])\n",
    "    plt.savefig(\"scaled_data_-11.png\", dpi=300);"
   ]
  },
  {
   "cell_type": "markdown",
   "metadata": {},
   "source": [
    "## Result\n",
    "\n",
    "The larger the critic output -> the more likely it is too be an anomaly"
   ]
  }
 ],
 "metadata": {
  "kernelspec": {
   "display_name": "Python 3",
   "language": "python",
   "name": "python3"
  },
  "language_info": {
   "codemirror_mode": {
    "name": "ipython",
    "version": 3
   },
   "file_extension": ".py",
   "mimetype": "text/x-python",
   "name": "python",
   "nbconvert_exporter": "python",
   "pygments_lexer": "ipython3",
   "version": "3.6.10"
  }
 },
 "nbformat": 4,
 "nbformat_minor": 5
}
