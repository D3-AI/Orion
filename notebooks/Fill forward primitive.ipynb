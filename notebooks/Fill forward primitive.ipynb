{
 "cells": [
  {
   "cell_type": "code",
   "execution_count": 1,
   "metadata": {},
   "outputs": [],
   "source": [
    "import numpy as np\n",
    "import pandas as pd\n",
    "\n",
    "from mlblocks import MLPipeline\n",
    "\n",
    "from orion.data import load_signal, load_anomalies"
   ]
  },
  {
   "cell_type": "code",
   "execution_count": 2,
   "metadata": {},
   "outputs": [],
   "source": [
    "df = load_signal('S-1')\n",
    "\n",
    "df = pd.DataFrame({\"timestamp\": [0, 10, 20, 30, 40], \"value\": [np.nan, 1, 2, np.nan, 5]})"
   ]
  },
  {
   "cell_type": "code",
   "execution_count": 3,
   "metadata": {},
   "outputs": [],
   "source": [
    "pipeline = {\n",
    "    \"primitives\": [\n",
    "        \"mlprimitives.custom.timeseries_preprocessing.time_segments_aggregate\",\n",
    "        \"orion.primitives.timeseries_preprocessing.fillna\"\n",
    "    ],\n",
    "    \"init_params\": {\n",
    "        \"mlprimitives.custom.timeseries_preprocessing.time_segments_aggregate#1\": {\n",
    "            \"time_column\": \"timestamp\",\n",
    "            \"interval\": 10,\n",
    "            \"method\": \"mean\"\n",
    "        },\n",
    "        \"orion.primitives.timeseries_preprocessing.fillna#1\": {\n",
    "            \"method\": [\"ffill\", \"bfill\"]\n",
    "        }\n",
    "    }\n",
    "}\n",
    "\n",
    "# pipeline = {\n",
    "#     \"primitives\": [\n",
    "#         \"mlprimitives.custom.timeseries_preprocessing.time_segments_aggregate\",\n",
    "#         \"pandas.DataFrame\",\n",
    "#         \"pandas.DataFrame.fillna\",\n",
    "#         \"pandas.DataFrame.fillna\",\n",
    "#         \"pandas.DataFrame.to_numpy\"\n",
    "#     ],\n",
    "#     \"init_params\": {\n",
    "#         \"mlprimitives.custom.timeseries_preprocessing.time_segments_aggregate#1\": {\n",
    "#             \"time_column\": \"timestamp\",\n",
    "#             \"interval\": 10,\n",
    "#             \"method\": \"mean\"\n",
    "#         },\n",
    "#         \"pandas.DataFrame.fillna#1\": {\n",
    "#             \"method\": \"ffill\"\n",
    "#         },\n",
    "#         \"pandas.DataFrame.fillna#2\": {\n",
    "#             \"method\": \"bfill\"\n",
    "#         }\n",
    "#     }\n",
    "# }\n",
    "\n",
    "mlpipeline = MLPipeline(pipeline)\n",
    "X = mlpipeline.predict(df)"
   ]
  },
  {
   "cell_type": "code",
   "execution_count": 4,
   "metadata": {},
   "outputs": [
    {
     "data": {
      "text/plain": [
       "array([1., 1., 2., 2., 5.])"
      ]
     },
     "execution_count": 4,
     "metadata": {},
     "output_type": "execute_result"
    }
   ],
   "source": [
    "X"
   ]
  },
  {
   "cell_type": "code",
   "execution_count": null,
   "metadata": {},
   "outputs": [],
   "source": []
  }
 ],
 "metadata": {
  "kernelspec": {
   "display_name": "Python 3",
   "language": "python",
   "name": "python3"
  },
  "language_info": {
   "codemirror_mode": {
    "name": "ipython",
    "version": 3
   },
   "file_extension": ".py",
   "mimetype": "text/x-python",
   "name": "python",
   "nbconvert_exporter": "python",
   "pygments_lexer": "ipython3",
   "version": "3.6.10"
  }
 },
 "nbformat": 4,
 "nbformat_minor": 4
}
