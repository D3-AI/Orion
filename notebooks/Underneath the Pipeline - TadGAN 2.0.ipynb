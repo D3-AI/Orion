{
 "cells": [
  {
   "cell_type": "markdown",
   "id": "metallic-drain",
   "metadata": {},
   "source": [
    "# Underneath the Pipeline\n",
    "\n",
    "This tutorial executes a given pipeline while also viewing the intermediate results. It can be applied to any pipeline available in the Orion repository. In this edition, we will be viewing the `tadgan` pipeline.\n",
    "\n",
    "First let's load a demo dataset"
   ]
  },
  {
   "cell_type": "code",
   "execution_count": 1,
   "id": "secret-theorem",
   "metadata": {},
   "outputs": [],
   "source": [
    "%load_ext autoreload\n",
    "%autoreload 2"
   ]
  },
  {
   "cell_type": "code",
   "execution_count": 2,
   "id": "severe-flower",
   "metadata": {},
   "outputs": [
    {
     "data": {
      "text/html": [
       "<div>\n",
       "<style scoped>\n",
       "    .dataframe tbody tr th:only-of-type {\n",
       "        vertical-align: middle;\n",
       "    }\n",
       "\n",
       "    .dataframe tbody tr th {\n",
       "        vertical-align: top;\n",
       "    }\n",
       "\n",
       "    .dataframe thead th {\n",
       "        text-align: right;\n",
       "    }\n",
       "</style>\n",
       "<table border=\"1\" class=\"dataframe\">\n",
       "  <thead>\n",
       "    <tr style=\"text-align: right;\">\n",
       "      <th></th>\n",
       "      <th>timestamp</th>\n",
       "      <th>value</th>\n",
       "    </tr>\n",
       "  </thead>\n",
       "  <tbody>\n",
       "    <tr>\n",
       "      <th>0</th>\n",
       "      <td>1222819200</td>\n",
       "      <td>-0.366359</td>\n",
       "    </tr>\n",
       "    <tr>\n",
       "      <th>1</th>\n",
       "      <td>1222840800</td>\n",
       "      <td>-0.394108</td>\n",
       "    </tr>\n",
       "    <tr>\n",
       "      <th>2</th>\n",
       "      <td>1222862400</td>\n",
       "      <td>0.403625</td>\n",
       "    </tr>\n",
       "    <tr>\n",
       "      <th>3</th>\n",
       "      <td>1222884000</td>\n",
       "      <td>-0.362759</td>\n",
       "    </tr>\n",
       "    <tr>\n",
       "      <th>4</th>\n",
       "      <td>1222905600</td>\n",
       "      <td>-0.370746</td>\n",
       "    </tr>\n",
       "  </tbody>\n",
       "</table>\n",
       "</div>"
      ],
      "text/plain": [
       "    timestamp     value\n",
       "0  1222819200 -0.366359\n",
       "1  1222840800 -0.394108\n",
       "2  1222862400  0.403625\n",
       "3  1222884000 -0.362759\n",
       "4  1222905600 -0.370746"
      ]
     },
     "execution_count": 2,
     "metadata": {},
     "output_type": "execute_result"
    }
   ],
   "source": [
    "from orion.data import load_signal\n",
    "\n",
    "signal = load_signal('S-1')\n",
    "signal_without_anom = load_signal('S-1-train')\n",
    "signal_with_anom = load_signal('S-1-test')\n",
    "signal.head()"
   ]
  },
  {
   "cell_type": "markdown",
   "id": "documented-twist",
   "metadata": {},
   "source": [
    "Load the desired pipeline and setup hyperparameters as necessary"
   ]
  },
  {
   "cell_type": "code",
   "execution_count": 4,
   "id": "proud-leeds",
   "metadata": {},
   "outputs": [],
   "source": [
    "from mlblocks import MLPipeline\n",
    "\n",
    "hyper = { \n",
    "    \"orion.primitives.tadgan.TadGAN#1\": { \n",
    "        \"epochs\": 5, \n",
    "        \"verbose\": True,\n",
    "        \"validation_split\": 0.0\n",
    "    } \n",
    "}  \n",
    "\n",
    "pipeline = MLPipeline('tadgan')\n",
    "pipeline.set_hyperparameters(hyper)"
   ]
  },
  {
   "cell_type": "markdown",
   "id": "shaped-search",
   "metadata": {},
   "source": [
    "# Step by Step Executation\n",
    "\n",
    "Now we view the intermediate results by looking at the context at each step. First we go through the training process, then we continue to the detection sequences.\n",
    "\n",
    "## Training\n",
    "\n",
    "### step 0: time_segments_aggregate\n",
    "\n",
    "equally space the timeseries"
   ]
  },
  {
   "cell_type": "code",
   "execution_count": 5,
   "id": "manufactured-entrance",
   "metadata": {},
   "outputs": [],
   "source": [
    "step = 0\n",
    "context = pipeline.fit(signal, output_=step)"
   ]
  },
  {
   "cell_type": "code",
   "execution_count": 6,
   "id": "limiting-nation",
   "metadata": {},
   "outputs": [
    {
     "data": {
      "text/plain": [
       "dict_keys(['X', 'index'])"
      ]
     },
     "execution_count": 6,
     "metadata": {},
     "output_type": "execute_result"
    }
   ],
   "source": [
    "context.keys()"
   ]
  },
  {
   "cell_type": "markdown",
   "id": "acquired-indie",
   "metadata": {},
   "source": [
    "### step 1: SimpleImputer\n",
    "\n",
    "impute missing values"
   ]
  },
  {
   "cell_type": "code",
   "execution_count": 7,
   "id": "manual-framing",
   "metadata": {},
   "outputs": [],
   "source": [
    "step = 1\n",
    "context = pipeline.fit(**context, output_=step, start_=step)"
   ]
  },
  {
   "cell_type": "code",
   "execution_count": 8,
   "id": "valid-green",
   "metadata": {},
   "outputs": [
    {
     "data": {
      "text/plain": [
       "dict_keys(['index', 'X'])"
      ]
     },
     "execution_count": 8,
     "metadata": {},
     "output_type": "execute_result"
    }
   ],
   "source": [
    "context.keys()"
   ]
  },
  {
   "cell_type": "markdown",
   "id": "surrounded-reputation",
   "metadata": {},
   "source": [
    "### step 2: MinMaxScaler\n",
    "\n",
    "scale the data between -1 and 1"
   ]
  },
  {
   "cell_type": "code",
   "execution_count": 9,
   "id": "developmental-insertion",
   "metadata": {},
   "outputs": [],
   "source": [
    "step = 2\n",
    "context = pipeline.fit(**context, output_=step, start_=step)"
   ]
  },
  {
   "cell_type": "code",
   "execution_count": 10,
   "id": "hungarian-threat",
   "metadata": {},
   "outputs": [
    {
     "data": {
      "text/plain": [
       "dict_keys(['index', 'X'])"
      ]
     },
     "execution_count": 10,
     "metadata": {},
     "output_type": "execute_result"
    }
   ],
   "source": [
    "context.keys()"
   ]
  },
  {
   "cell_type": "markdown",
   "id": "younger-chaos",
   "metadata": {},
   "source": [
    "### step 3: rolling_window_sequences\n",
    "\n",
    "generate training examples from rolling window sequences"
   ]
  },
  {
   "cell_type": "code",
   "execution_count": 11,
   "id": "moral-defensive",
   "metadata": {},
   "outputs": [],
   "source": [
    "step = 3\n",
    "context = pipeline.fit(**context, output_=step, start_=step)"
   ]
  },
  {
   "cell_type": "code",
   "execution_count": 12,
   "id": "bearing-lesbian",
   "metadata": {},
   "outputs": [
    {
     "data": {
      "text/plain": [
       "dict_keys(['index', 'X', 'y', 'X_index', 'target_index'])"
      ]
     },
     "execution_count": 12,
     "metadata": {},
     "output_type": "execute_result"
    }
   ],
   "source": [
    "context.keys()"
   ]
  },
  {
   "cell_type": "markdown",
   "id": "purple-twins",
   "metadata": {},
   "source": [
    "### step 4: TadGAN\n",
    "\n",
    "train the TadGAN model using the generated window sequences"
   ]
  },
  {
   "cell_type": "code",
   "execution_count": 13,
   "id": "numerical-depression",
   "metadata": {},
   "outputs": [
    {
     "name": "stdout",
     "output_type": "stream",
     "text": [
      "Epoch 1/5\n",
      "157/157 [==============================] - 38s 241ms/step - Cx_loss: -1.5144 - Cz_loss: 0.5537 - EG_loss: 0.9412\n",
      "Epoch 2/5\n",
      "157/157 [==============================] - 40s 257ms/step - Cx_loss: -1.2406 - Cz_loss: 0.3370 - EG_loss: -0.8431\n",
      "Epoch 3/5\n",
      "157/157 [==============================] - 43s 272ms/step - Cx_loss: -0.9864 - Cz_loss: 0.4400 - EG_loss: -1.5019\n",
      "Epoch 4/5\n",
      "157/157 [==============================] - 37s 235ms/step - Cx_loss: -0.8890 - Cz_loss: 0.2945 - EG_loss: -1.7481\n",
      "Epoch 5/5\n",
      "157/157 [==============================] - 36s 232ms/step - Cx_loss: -0.7270 - Cz_loss: 0.2340 - EG_loss: -2.1020\n"
     ]
    }
   ],
   "source": [
    "step = 4\n",
    "context = pipeline.fit(**context, output_=step, start_=step)"
   ]
  },
  {
   "cell_type": "code",
   "execution_count": 14,
   "id": "mobile-france",
   "metadata": {},
   "outputs": [
    {
     "data": {
      "text/plain": [
       "dict_keys(['index', 'X_index', 'target_index', 'X', 'y', 'y_hat', 'critic'])"
      ]
     },
     "execution_count": 14,
     "metadata": {},
     "output_type": "execute_result"
    }
   ],
   "source": [
    "context.keys()"
   ]
  },
  {
   "cell_type": "markdown",
   "id": "frequent-atmosphere",
   "metadata": {},
   "source": [
    "## Detecting\n",
    "\n",
    "We can either use another part of the signal or the same signal. If you are using the same signal, there is no reseaon to repeat step 0 - 3.\n",
    "\n",
    "### step 0 - 3: similar to the previous steps\n",
    "All previous time series processing applied in a single line"
   ]
  },
  {
   "cell_type": "code",
   "execution_count": 15,
   "id": "surprised-biodiversity",
   "metadata": {},
   "outputs": [],
   "source": [
    "step = 3\n",
    "context = pipeline.predict(signal, output_=step)"
   ]
  },
  {
   "cell_type": "markdown",
   "id": "existing-imperial",
   "metadata": {},
   "source": [
    "### step 4: TadGAN predictions and critic output\n",
    "get the predictions and critic values for the data"
   ]
  },
  {
   "cell_type": "code",
   "execution_count": 17,
   "id": "endless-enemy",
   "metadata": {},
   "outputs": [],
   "source": [
    "step = 4\n",
    "context = pipeline.predict(**context, output_=step, start_=step)"
   ]
  },
  {
   "cell_type": "markdown",
   "id": "featured-appliance",
   "metadata": {},
   "source": [
    "### step 5: calculate error\n",
    "calculate the error from reconstruction error and critic score"
   ]
  },
  {
   "cell_type": "code",
   "execution_count": 18,
   "id": "interracial-commander",
   "metadata": {},
   "outputs": [],
   "source": [
    "step = 5\n",
    "context = pipeline.predict(**context, output_=step, start_=step)"
   ]
  },
  {
   "cell_type": "code",
   "execution_count": 19,
   "id": "transparent-there",
   "metadata": {},
   "outputs": [
    {
     "data": {
      "text/plain": [
       "dict_keys(['index', 'y', 'X_index', 'target_index', 'y_hat', 'critic', 'X', 'errors', 'true_index', 'true', 'predictions'])"
      ]
     },
     "execution_count": 19,
     "metadata": {},
     "output_type": "execute_result"
    }
   ],
   "source": [
    "context.keys()"
   ]
  },
  {
   "cell_type": "markdown",
   "id": "specific-employee",
   "metadata": {},
   "source": [
    "### step 6: find anomalies\n",
    "use the calculated error to threshold value and locate anomalies"
   ]
  },
  {
   "cell_type": "code",
   "execution_count": 22,
   "id": "greenhouse-blackberry",
   "metadata": {},
   "outputs": [],
   "source": [
    "step = 6\n",
    "context = pipeline.predict(**context, output_=step, start_=step)"
   ]
  },
  {
   "cell_type": "code",
   "execution_count": 24,
   "id": "improving-rover",
   "metadata": {},
   "outputs": [
    {
     "data": {
      "text/plain": [
       "array([[1.26554400e+09, 1.26796320e+09, 1.18218331e-01],\n",
       "       [1.34971920e+09, 1.35233280e+09, 1.84928257e-01],\n",
       "       [1.40136480e+09, 1.40542560e+09, 1.75258103e+00]])"
      ]
     },
     "execution_count": 24,
     "metadata": {},
     "output_type": "execute_result"
    }
   ],
   "source": [
    "context['y']"
   ]
  },
  {
   "cell_type": "markdown",
   "id": "freelance-formation",
   "metadata": {},
   "source": [
    "---"
   ]
  },
  {
   "cell_type": "code",
   "execution_count": 38,
   "id": "revolutionary-convert",
   "metadata": {},
   "outputs": [],
   "source": [
    "import pandas as pd\n",
    "import numpy as np\n",
    "\n",
    "dummy =  pd.DataFrame({\"timestamp\": list(range(0, 21600*1000, 21600)), \n",
    "                       \"value\": np.random.randint(-15, 15, 1000)})"
   ]
  },
  {
   "cell_type": "code",
   "execution_count": 13,
   "id": "toxic-minutes",
   "metadata": {},
   "outputs": [],
   "source": [
    "step = 3\n",
    "context = pipeline.predict(signal, output_=step)"
   ]
  },
  {
   "cell_type": "code",
   "execution_count": 45,
   "id": "indie-parliament",
   "metadata": {},
   "outputs": [
    {
     "data": {
      "text/plain": [
       "dict_keys(['X', 'index', 'y', 'X_index', 'target_index'])"
      ]
     },
     "execution_count": 45,
     "metadata": {},
     "output_type": "execute_result"
    }
   ],
   "source": [
    "context.keys()"
   ]
  },
  {
   "cell_type": "code",
   "execution_count": 14,
   "id": "passing-richards",
   "metadata": {},
   "outputs": [],
   "source": [
    "import numpy as np\n",
    "\n",
    "def unroll_ts(y_hat):\n",
    "    predictions = list()\n",
    "    pred_length = y_hat.shape[1]\n",
    "    num_errors = y_hat.shape[1] + (y_hat.shape[0] - 1)\n",
    "\n",
    "    for i in range(num_errors):\n",
    "            intermediate = []\n",
    "\n",
    "            for j in range(max(0, i - num_errors + pred_length), min(i + 1, pred_length)):\n",
    "                intermediate.append(y_hat[i - j, j])\n",
    "\n",
    "            if intermediate:\n",
    "                predictions.append(np.median(np.asarray(intermediate)))\n",
    "\n",
    "    return np.asarray(predictions[pred_length-1:])"
   ]
  },
  {
   "cell_type": "code",
   "execution_count": 15,
   "id": "stuck-atlantic",
   "metadata": {},
   "outputs": [],
   "source": [
    "step = 4\n",
    "context = pipeline.predict(**context, output_=step, start_=step)"
   ]
  },
  {
   "cell_type": "code",
   "execution_count": 43,
   "id": "senior-calvin",
   "metadata": {},
   "outputs": [
    {
     "data": {
      "image/png": "[encoded data removed]",
      "text/plain": [
       "<Figure size 432x288 with 1 Axes>"
      ]
     },
     "metadata": {
      "needs_background": "light"
     },
     "output_type": "display_data"
    }
   ],
   "source": [
    "%matplotlib inline\n",
    "\n",
    "import matplotlib.pyplot as plt\n",
    "\n",
    "plt.hist(context['critic'].flatten(), bins=20, edgecolor='black')\n",
    "plt.title(\"critic score for dummy data\");"
   ]
  },
  {
   "cell_type": "code",
   "execution_count": 23,
   "id": "confused-timing",
   "metadata": {},
   "outputs": [
    {
     "data": {
      "image/png": "[encoded data removed]",
      "text/plain": [
       "<Figure size 432x288 with 1 Axes>"
      ]
     },
     "metadata": {
      "needs_background": "light"
     },
     "output_type": "display_data"
    }
   ],
   "source": [
    "%matplotlib inline\n",
    "\n",
    "import matplotlib.pyplot as plt\n",
    "\n",
    "plt.hist(context['critic'].flatten(), bins=20, edgecolor='black')\n",
    "plt.title(\"critic score for real data, no anomalies\");"
   ]
  },
  {
   "cell_type": "code",
   "execution_count": 20,
   "id": "afraid-thumbnail",
   "metadata": {},
   "outputs": [
    {
     "data": {
      "image/png": "[encoded data removed]",
      "text/plain": [
       "<Figure size 432x288 with 1 Axes>"
      ]
     },
     "metadata": {
      "needs_background": "light"
     },
     "output_type": "display_data"
    }
   ],
   "source": [
    "%matplotlib inline\n",
    "\n",
    "import matplotlib.pyplot as plt\n",
    "\n",
    "plt.plot(signal['value'], label='actual')\n",
    "plt.plot(unroll_ts(context['y_hat']), label='generated')\n",
    "plt.legend()\n",
    "plt.title('S-1')\n",
    "plt.savefig(\"tf2_s1.png\", dpi=300);"
   ]
  },
  {
   "cell_type": "code",
   "execution_count": 21,
   "id": "outdoor-technician",
   "metadata": {},
   "outputs": [
    {
     "data": {
      "image/png": "[encoded data removed]",
      "text/plain": [
       "<Figure size 432x288 with 1 Axes>"
      ]
     },
     "metadata": {
      "needs_background": "light"
     },
     "output_type": "display_data"
    }
   ],
   "source": [
    "plt.title('S-1 critic score')\n",
    "plt.plot(context['critic'])\n",
    "plt.savefig(\"tf2_s1_critic.png\", dpi=300);"
   ]
  },
  {
   "cell_type": "code",
   "execution_count": 18,
   "id": "chief-evans",
   "metadata": {},
   "outputs": [
    {
     "data": {
      "image/png": "[encoded data removed]",
      "text/plain": [
       "<Figure size 432x288 with 1 Axes>"
      ]
     },
     "metadata": {
      "needs_background": "light"
     },
     "output_type": "display_data"
    }
   ],
   "source": [
    "%matplotlib inline\n",
    "\n",
    "import matplotlib.pyplot as plt\n",
    "\n",
    "plt.hist(context['critic'].flatten(), bins=20, edgecolor='black')\n",
    "plt.title(\"critic score for real data, with anomalies\");"
   ]
  },
  {
   "cell_type": "code",
   "execution_count": null,
   "id": "adjusted-image",
   "metadata": {},
   "outputs": [],
   "source": []
  }
 ],
 "metadata": {
  "kernelspec": {
   "display_name": "Python 3",
   "language": "python",
   "name": "python3"
  },
  "language_info": {
   "codemirror_mode": {
    "name": "ipython",
    "version": 3
   },
   "file_extension": ".py",
   "mimetype": "text/x-python",
   "name": "python",
   "nbconvert_exporter": "python",
   "pygments_lexer": "ipython3",
   "version": "3.6.12"
  }
 },
 "nbformat": 4,
 "nbformat_minor": 5
}
